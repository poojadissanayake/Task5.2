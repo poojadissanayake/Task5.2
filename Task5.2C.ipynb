{
 "cells": [
  {
   "cell_type": "markdown",
   "id": "a5ba585d-3adb-4768-ba16-bd77132c9c9b",
   "metadata": {},
   "source": [
    "# Task 5.2C"
   ]
  },
  {
   "cell_type": "code",
   "execution_count": 98,
   "id": "8a12a399-76a9-4393-b219-484b797aabba",
   "metadata": {},
   "outputs": [],
   "source": [
    "#importing libraries\n",
    "import pandas as pd\n",
    "import numpy as np\n",
    "import matplotlib.pyplot as plt"
   ]
  },
  {
   "cell_type": "code",
   "execution_count": 6,
   "id": "4c76c4a8-8819-415e-837e-748acf5d6301",
   "metadata": {},
   "outputs": [],
   "source": [
    "cs_attack_df = pd.read_csv('cybersecurity_attacks.csv')"
   ]
  },
  {
   "cell_type": "markdown",
   "id": "99c719f9-cdca-4c0a-8bf0-25fa9ec65af8",
   "metadata": {},
   "source": [
    "## 1.1 Display the first few rows of the dataset with the column headers to understand its structure."
   ]
  },
  {
   "cell_type": "code",
   "execution_count": 8,
   "id": "82679eb8-dd1a-429f-80f3-71343e6a89d3",
   "metadata": {},
   "outputs": [],
   "source": [
    "dataset_head = cs_attack_df.head()"
   ]
  },
  {
   "cell_type": "code",
   "execution_count": 10,
   "id": "b9be792c-fe8f-4b68-b245-e4fbe959ebd1",
   "metadata": {},
   "outputs": [
    {
     "data": {
      "text/html": [
       "<div>\n",
       "<style scoped>\n",
       "    .dataframe tbody tr th:only-of-type {\n",
       "        vertical-align: middle;\n",
       "    }\n",
       "\n",
       "    .dataframe tbody tr th {\n",
       "        vertical-align: top;\n",
       "    }\n",
       "\n",
       "    .dataframe thead th {\n",
       "        text-align: right;\n",
       "    }\n",
       "</style>\n",
       "<table border=\"1\" class=\"dataframe\">\n",
       "  <thead>\n",
       "    <tr style=\"text-align: right;\">\n",
       "      <th></th>\n",
       "      <th>Timestamp</th>\n",
       "      <th>Source IP Address</th>\n",
       "      <th>Destination IP Address</th>\n",
       "      <th>Source Port</th>\n",
       "      <th>Destination Port</th>\n",
       "      <th>Protocol</th>\n",
       "      <th>Packet Length</th>\n",
       "      <th>Packet Type</th>\n",
       "      <th>Traffic Type</th>\n",
       "      <th>Payload Data</th>\n",
       "      <th>...</th>\n",
       "      <th>Action Taken</th>\n",
       "      <th>Severity Level</th>\n",
       "      <th>User Information</th>\n",
       "      <th>Device Information</th>\n",
       "      <th>Network Segment</th>\n",
       "      <th>Geo-location Data</th>\n",
       "      <th>Proxy Information</th>\n",
       "      <th>Firewall Logs</th>\n",
       "      <th>IDS/IPS Alerts</th>\n",
       "      <th>Log Source</th>\n",
       "    </tr>\n",
       "  </thead>\n",
       "  <tbody>\n",
       "    <tr>\n",
       "      <th>0</th>\n",
       "      <td>2023-05-30 06:33:58</td>\n",
       "      <td>103.216.15.12</td>\n",
       "      <td>84.9.164.252</td>\n",
       "      <td>31225</td>\n",
       "      <td>17616</td>\n",
       "      <td>ICMP</td>\n",
       "      <td>503</td>\n",
       "      <td>Data</td>\n",
       "      <td>HTTP</td>\n",
       "      <td>Qui natus odio asperiores nam. Optio nobis ius...</td>\n",
       "      <td>...</td>\n",
       "      <td>Logged</td>\n",
       "      <td>Low</td>\n",
       "      <td>Reyansh Dugal</td>\n",
       "      <td>Mozilla/5.0 (compatible; MSIE 8.0; Windows NT ...</td>\n",
       "      <td>Segment A</td>\n",
       "      <td>Jamshedpur, Sikkim</td>\n",
       "      <td>150.9.97.135</td>\n",
       "      <td>Log Data</td>\n",
       "      <td>NaN</td>\n",
       "      <td>Server</td>\n",
       "    </tr>\n",
       "    <tr>\n",
       "      <th>1</th>\n",
       "      <td>2020-08-26 07:08:30</td>\n",
       "      <td>78.199.217.198</td>\n",
       "      <td>66.191.137.154</td>\n",
       "      <td>17245</td>\n",
       "      <td>48166</td>\n",
       "      <td>ICMP</td>\n",
       "      <td>1174</td>\n",
       "      <td>Data</td>\n",
       "      <td>HTTP</td>\n",
       "      <td>Aperiam quos modi officiis veritatis rem. Omni...</td>\n",
       "      <td>...</td>\n",
       "      <td>Blocked</td>\n",
       "      <td>Low</td>\n",
       "      <td>Sumer Rana</td>\n",
       "      <td>Mozilla/5.0 (compatible; MSIE 8.0; Windows NT ...</td>\n",
       "      <td>Segment B</td>\n",
       "      <td>Bilaspur, Nagaland</td>\n",
       "      <td>NaN</td>\n",
       "      <td>Log Data</td>\n",
       "      <td>NaN</td>\n",
       "      <td>Firewall</td>\n",
       "    </tr>\n",
       "    <tr>\n",
       "      <th>2</th>\n",
       "      <td>2022-11-13 08:23:25</td>\n",
       "      <td>63.79.210.48</td>\n",
       "      <td>198.219.82.17</td>\n",
       "      <td>16811</td>\n",
       "      <td>53600</td>\n",
       "      <td>UDP</td>\n",
       "      <td>306</td>\n",
       "      <td>Control</td>\n",
       "      <td>HTTP</td>\n",
       "      <td>Perferendis sapiente vitae soluta. Hic delectu...</td>\n",
       "      <td>...</td>\n",
       "      <td>Ignored</td>\n",
       "      <td>Low</td>\n",
       "      <td>Himmat Karpe</td>\n",
       "      <td>Mozilla/5.0 (compatible; MSIE 9.0; Windows NT ...</td>\n",
       "      <td>Segment C</td>\n",
       "      <td>Bokaro, Rajasthan</td>\n",
       "      <td>114.133.48.179</td>\n",
       "      <td>Log Data</td>\n",
       "      <td>Alert Data</td>\n",
       "      <td>Firewall</td>\n",
       "    </tr>\n",
       "    <tr>\n",
       "      <th>3</th>\n",
       "      <td>2023-07-02 10:38:46</td>\n",
       "      <td>163.42.196.10</td>\n",
       "      <td>101.228.192.255</td>\n",
       "      <td>20018</td>\n",
       "      <td>32534</td>\n",
       "      <td>UDP</td>\n",
       "      <td>385</td>\n",
       "      <td>Data</td>\n",
       "      <td>HTTP</td>\n",
       "      <td>Totam maxime beatae expedita explicabo porro l...</td>\n",
       "      <td>...</td>\n",
       "      <td>Blocked</td>\n",
       "      <td>Medium</td>\n",
       "      <td>Fateh Kibe</td>\n",
       "      <td>Mozilla/5.0 (Macintosh; PPC Mac OS X 10_11_5; ...</td>\n",
       "      <td>Segment B</td>\n",
       "      <td>Jaunpur, Rajasthan</td>\n",
       "      <td>NaN</td>\n",
       "      <td>NaN</td>\n",
       "      <td>Alert Data</td>\n",
       "      <td>Firewall</td>\n",
       "    </tr>\n",
       "    <tr>\n",
       "      <th>4</th>\n",
       "      <td>2023-07-16 13:11:07</td>\n",
       "      <td>71.166.185.76</td>\n",
       "      <td>189.243.174.238</td>\n",
       "      <td>6131</td>\n",
       "      <td>26646</td>\n",
       "      <td>TCP</td>\n",
       "      <td>1462</td>\n",
       "      <td>Data</td>\n",
       "      <td>DNS</td>\n",
       "      <td>Odit nesciunt dolorem nisi iste iusto. Animi v...</td>\n",
       "      <td>...</td>\n",
       "      <td>Blocked</td>\n",
       "      <td>Low</td>\n",
       "      <td>Dhanush Chad</td>\n",
       "      <td>Mozilla/5.0 (compatible; MSIE 5.0; Windows NT ...</td>\n",
       "      <td>Segment C</td>\n",
       "      <td>Anantapur, Tripura</td>\n",
       "      <td>149.6.110.119</td>\n",
       "      <td>NaN</td>\n",
       "      <td>Alert Data</td>\n",
       "      <td>Firewall</td>\n",
       "    </tr>\n",
       "  </tbody>\n",
       "</table>\n",
       "<p>5 rows × 25 columns</p>\n",
       "</div>"
      ],
      "text/plain": [
       "             Timestamp Source IP Address Destination IP Address  Source Port  \\\n",
       "0  2023-05-30 06:33:58     103.216.15.12           84.9.164.252        31225   \n",
       "1  2020-08-26 07:08:30    78.199.217.198         66.191.137.154        17245   \n",
       "2  2022-11-13 08:23:25      63.79.210.48          198.219.82.17        16811   \n",
       "3  2023-07-02 10:38:46     163.42.196.10        101.228.192.255        20018   \n",
       "4  2023-07-16 13:11:07     71.166.185.76        189.243.174.238         6131   \n",
       "\n",
       "   Destination Port Protocol  Packet Length Packet Type Traffic Type  \\\n",
       "0             17616     ICMP            503        Data         HTTP   \n",
       "1             48166     ICMP           1174        Data         HTTP   \n",
       "2             53600      UDP            306     Control         HTTP   \n",
       "3             32534      UDP            385        Data         HTTP   \n",
       "4             26646      TCP           1462        Data          DNS   \n",
       "\n",
       "                                        Payload Data  ... Action Taken  \\\n",
       "0  Qui natus odio asperiores nam. Optio nobis ius...  ...       Logged   \n",
       "1  Aperiam quos modi officiis veritatis rem. Omni...  ...      Blocked   \n",
       "2  Perferendis sapiente vitae soluta. Hic delectu...  ...      Ignored   \n",
       "3  Totam maxime beatae expedita explicabo porro l...  ...      Blocked   \n",
       "4  Odit nesciunt dolorem nisi iste iusto. Animi v...  ...      Blocked   \n",
       "\n",
       "   Severity Level User Information  \\\n",
       "0             Low    Reyansh Dugal   \n",
       "1             Low       Sumer Rana   \n",
       "2             Low     Himmat Karpe   \n",
       "3          Medium       Fateh Kibe   \n",
       "4             Low     Dhanush Chad   \n",
       "\n",
       "                                  Device Information Network Segment  \\\n",
       "0  Mozilla/5.0 (compatible; MSIE 8.0; Windows NT ...       Segment A   \n",
       "1  Mozilla/5.0 (compatible; MSIE 8.0; Windows NT ...       Segment B   \n",
       "2  Mozilla/5.0 (compatible; MSIE 9.0; Windows NT ...       Segment C   \n",
       "3  Mozilla/5.0 (Macintosh; PPC Mac OS X 10_11_5; ...       Segment B   \n",
       "4  Mozilla/5.0 (compatible; MSIE 5.0; Windows NT ...       Segment C   \n",
       "\n",
       "    Geo-location Data Proxy Information Firewall Logs IDS/IPS Alerts  \\\n",
       "0  Jamshedpur, Sikkim      150.9.97.135      Log Data            NaN   \n",
       "1  Bilaspur, Nagaland               NaN      Log Data            NaN   \n",
       "2   Bokaro, Rajasthan    114.133.48.179      Log Data     Alert Data   \n",
       "3  Jaunpur, Rajasthan               NaN           NaN     Alert Data   \n",
       "4  Anantapur, Tripura     149.6.110.119           NaN     Alert Data   \n",
       "\n",
       "  Log Source  \n",
       "0     Server  \n",
       "1   Firewall  \n",
       "2   Firewall  \n",
       "3   Firewall  \n",
       "4   Firewall  \n",
       "\n",
       "[5 rows x 25 columns]"
      ]
     },
     "execution_count": 10,
     "metadata": {},
     "output_type": "execute_result"
    }
   ],
   "source": [
    "dataset_head"
   ]
  },
  {
   "cell_type": "markdown",
   "id": "26206e23-a364-4766-ba71-67d69f5e7e4e",
   "metadata": {},
   "source": [
    "## 1.2 Handle Missing Values (Identify missing values in the dataset and then Apply appropriate methods to handle missing values)"
   ]
  },
  {
   "cell_type": "markdown",
   "id": "e9f359fe-905c-4152-bb7b-9768f023295d",
   "metadata": {},
   "source": [
    "### Understanding the dataset"
   ]
  },
  {
   "cell_type": "code",
   "execution_count": 20,
   "id": "f5961a2b-9fd9-4585-9389-145fb05ca44e",
   "metadata": {},
   "outputs": [
    {
     "data": {
      "text/plain": [
       "(40000, 25)"
      ]
     },
     "execution_count": 20,
     "metadata": {},
     "output_type": "execute_result"
    }
   ],
   "source": [
    "# rows and columns in the dataset\n",
    "cs_attack_df.shape"
   ]
  },
  {
   "cell_type": "code",
   "execution_count": 22,
   "id": "99559e28-3ec6-46b2-89cb-8b8e61517a7b",
   "metadata": {},
   "outputs": [
    {
     "data": {
      "text/plain": [
       "Timestamp                     0\n",
       "Source IP Address             0\n",
       "Destination IP Address        0\n",
       "Source Port                   0\n",
       "Destination Port              0\n",
       "Protocol                      0\n",
       "Packet Length                 0\n",
       "Packet Type                   0\n",
       "Traffic Type                  0\n",
       "Payload Data                  0\n",
       "Malware Indicators        20000\n",
       "Anomaly Scores                0\n",
       "Alerts/Warnings           20067\n",
       "Attack Type                   0\n",
       "Attack Signature              0\n",
       "Action Taken                  0\n",
       "Severity Level                0\n",
       "User Information              0\n",
       "Device Information            0\n",
       "Network Segment               0\n",
       "Geo-location Data             0\n",
       "Proxy Information         19851\n",
       "Firewall Logs             19961\n",
       "IDS/IPS Alerts            20050\n",
       "Log Source                    0\n",
       "dtype: int64"
      ]
     },
     "execution_count": 22,
     "metadata": {},
     "output_type": "execute_result"
    }
   ],
   "source": [
    "#check the number of missing values in each column\n",
    "cs_attack_df.isnull().sum()"
   ]
  },
  {
   "cell_type": "code",
   "execution_count": 58,
   "id": "5865feca-9de2-4c41-91fd-9688a8c2f2bb",
   "metadata": {},
   "outputs": [],
   "source": [
    "# if we drop all the missing data, a large portion of the dataset will be removed"
   ]
  },
  {
   "cell_type": "code",
   "execution_count": 24,
   "id": "c603d52b-53e2-4056-a146-cb02ae38cc6b",
   "metadata": {},
   "outputs": [
    {
     "data": {
      "text/plain": [
       "(1237, 25)"
      ]
     },
     "execution_count": 24,
     "metadata": {},
     "output_type": "execute_result"
    }
   ],
   "source": [
    "cs_attack_df.dropna().shape"
   ]
  },
  {
   "cell_type": "code",
   "execution_count": 60,
   "id": "36d4da14-179d-47a8-a1d0-18084c3f2cb9",
   "metadata": {},
   "outputs": [],
   "source": [
    "# there's no empty rows"
   ]
  },
  {
   "cell_type": "code",
   "execution_count": 26,
   "id": "33192cdb-e2a0-42a9-80ba-7902cbf4c50e",
   "metadata": {},
   "outputs": [
    {
     "data": {
      "text/plain": [
       "(40000, 25)"
      ]
     },
     "execution_count": 26,
     "metadata": {},
     "output_type": "execute_result"
    }
   ],
   "source": [
    "cs_attack_df.dropna(how='all').shape"
   ]
  },
  {
   "cell_type": "code",
   "execution_count": 28,
   "id": "4474e311-d5d4-4266-900d-138143d54bab",
   "metadata": {},
   "outputs": [
    {
     "data": {
      "text/plain": [
       "(38769, 25)"
      ]
     },
     "execution_count": 28,
     "metadata": {},
     "output_type": "execute_result"
    }
   ],
   "source": [
    "#if there's rows that has all the missing value having NaN at the same time\n",
    "cs_attack_df.dropna(subset = ['Malware Indicators','Alerts/Warnings', 'Proxy Information','Firewall Logs','IDS/IPS Alerts'], how ='all').shape"
   ]
  },
  {
   "cell_type": "markdown",
   "id": "ddad7541-1249-4bc3-889a-dcf03be63464",
   "metadata": {},
   "source": [
    "### Checking the different values in each columns that has missing data"
   ]
  },
  {
   "cell_type": "code",
   "execution_count": 31,
   "id": "cb6a5a16-34e7-4559-9dec-5dd95f41e8b3",
   "metadata": {},
   "outputs": [
    {
     "data": {
      "text/plain": [
       "Malware Indicators\n",
       "IoC Detected    20000\n",
       "NaN             20000\n",
       "Name: count, dtype: int64"
      ]
     },
     "execution_count": 31,
     "metadata": {},
     "output_type": "execute_result"
    }
   ],
   "source": [
    "cs_attack_df['Malware Indicators'].value_counts(dropna=False)"
   ]
  },
  {
   "cell_type": "code",
   "execution_count": 33,
   "id": "648e0c4b-2b80-4d05-b762-c19311898e56",
   "metadata": {},
   "outputs": [
    {
     "data": {
      "text/plain": [
       "Alerts/Warnings\n",
       "NaN                20067\n",
       "Alert Triggered    19933\n",
       "Name: count, dtype: int64"
      ]
     },
     "execution_count": 33,
     "metadata": {},
     "output_type": "execute_result"
    }
   ],
   "source": [
    "cs_attack_df['Alerts/Warnings'].value_counts(dropna=False)"
   ]
  },
  {
   "cell_type": "code",
   "execution_count": 35,
   "id": "dceced82-fb9f-4fa7-8891-6e95c89aaccf",
   "metadata": {},
   "outputs": [
    {
     "data": {
      "text/plain": [
       "Proxy Information\n",
       "NaN                19851\n",
       "39.123.165.122         2\n",
       "134.217.134.7          1\n",
       "211.195.173.251        1\n",
       "211.232.254.112        1\n",
       "                   ...  \n",
       "78.192.52.63           1\n",
       "157.191.153.187        1\n",
       "205.183.87.116         1\n",
       "85.48.37.84            1\n",
       "112.169.115.139        1\n",
       "Name: count, Length: 20149, dtype: int64"
      ]
     },
     "execution_count": 35,
     "metadata": {},
     "output_type": "execute_result"
    }
   ],
   "source": [
    "cs_attack_df['Proxy Information'].value_counts(dropna=False)"
   ]
  },
  {
   "cell_type": "code",
   "execution_count": 37,
   "id": "54d5c1d5-06af-428f-be47-6f1a7cacb532",
   "metadata": {},
   "outputs": [
    {
     "data": {
      "text/plain": [
       "Firewall Logs\n",
       "Log Data    20039\n",
       "NaN         19961\n",
       "Name: count, dtype: int64"
      ]
     },
     "execution_count": 37,
     "metadata": {},
     "output_type": "execute_result"
    }
   ],
   "source": [
    "cs_attack_df['Firewall Logs'].value_counts(dropna=False)"
   ]
  },
  {
   "cell_type": "code",
   "execution_count": 39,
   "id": "184ed197-9812-439c-82ff-47cd5a70d111",
   "metadata": {},
   "outputs": [
    {
     "data": {
      "text/plain": [
       "IDS/IPS Alerts\n",
       "NaN           20050\n",
       "Alert Data    19950\n",
       "Name: count, dtype: int64"
      ]
     },
     "execution_count": 39,
     "metadata": {},
     "output_type": "execute_result"
    }
   ],
   "source": [
    "cs_attack_df['IDS/IPS Alerts'].value_counts(dropna=False)"
   ]
  },
  {
   "cell_type": "code",
   "execution_count": 62,
   "id": "8369d82e-a196-497e-b542-f7825eb91dfd",
   "metadata": {},
   "outputs": [
    {
     "data": {
      "text/plain": [
       "Timestamp                  0.0000\n",
       "Source IP Address          0.0000\n",
       "Destination IP Address     0.0000\n",
       "Source Port                0.0000\n",
       "Destination Port           0.0000\n",
       "Protocol                   0.0000\n",
       "Packet Length              0.0000\n",
       "Packet Type                0.0000\n",
       "Traffic Type               0.0000\n",
       "Payload Data               0.0000\n",
       "Malware Indicators        50.0000\n",
       "Anomaly Scores             0.0000\n",
       "Alerts/Warnings           50.1675\n",
       "Attack Type                0.0000\n",
       "Attack Signature           0.0000\n",
       "Action Taken               0.0000\n",
       "Severity Level             0.0000\n",
       "User Information           0.0000\n",
       "Device Information         0.0000\n",
       "Network Segment            0.0000\n",
       "Geo-location Data          0.0000\n",
       "Proxy Information         49.6275\n",
       "Firewall Logs             49.9025\n",
       "IDS/IPS Alerts            50.1250\n",
       "Log Source                 0.0000\n",
       "dtype: float64"
      ]
     },
     "execution_count": 62,
     "metadata": {},
     "output_type": "execute_result"
    }
   ],
   "source": [
    "#missing value % (mvp)\n",
    "mvp = (cs_attack_df.isnull().sum()/len(cs_attack_df))*100\n",
    "mvp\n"
   ]
  },
  {
   "cell_type": "markdown",
   "id": "49ee181e-0820-41a7-88f5-e41aaece5dda",
   "metadata": {},
   "source": [
    "### Handling Missing data"
   ]
  },
  {
   "cell_type": "code",
   "execution_count": 65,
   "id": "aed22729-680e-4565-a4a8-feda827d1394",
   "metadata": {},
   "outputs": [],
   "source": [
    "# Missing value columns - 'Malware Indicators','Alerts/Warnings', 'Proxy Information','Firewall Logs','IDS/IPS Alerts'\n",
    "# Has no visible relationship with each other\n",
    "# above 50% missing - 'Alerts/Warnings', 'IDS/IPS Alerts'\n",
    "# 50% - 'Malware Indicators'\n",
    "# almost 50% - 'Proxy Information','Firewall Logs'"
   ]
  },
  {
   "cell_type": "markdown",
   "id": "fb7c0914-a4c9-43a0-9c79-f70284c1c8cd",
   "metadata": {},
   "source": [
    "#### Observations related to the dataset\n",
    "<li>There are 40000 entries and 25 columns in this dataset.</li>\n",
    "<li>Out of 25 coulmns, 5 columns contain significantly higher number of missing data(50%) - 'Malware Indicators','Alerts/Warnings', 'Proxy Information','Firewall Logs','IDS/IPS Alerts'</li>\n",
    "<li>Columns like Timestamp, Attack Type, Packet Length, Protocol, and Traffic Type provide useful information for analysis.</li>\n",
    "<li>Categorical fields such as 'Alerts/Warnings', 'Proxy Information','Firewall Logs' - does not have a natural numerical replacement</li>"
   ]
  },
  {
   "cell_type": "markdown",
   "id": "5df5e249-7206-498c-9132-a41751affa32",
   "metadata": {},
   "source": [
    "#### Plan of action:\n",
    "* If all the missing values are dropped, a large portion of the dataset will be removed.\n",
    "* We can remove the columns that has more than 50% missing data.\n",
    "\n",
    "    ##### why?\n",
    "    * Columns with too many missing values often doesn't add much to the analysis as it introduce noise, which will lead to unreliable conclusions.\n",
    "    * Avoids biased imputations - as half of its data is missing, adding any value will introduce significant biase, skewing the results.\n",
    "    * Improve performance of the model - having too many missing values affects the model's accuracy and performance. (In fact, removing such columns streamlines process.)\n",
    "\n",
    "* Once the columns more than 50% data is removed, we can fill missing values with a value such as \"unknown\" for categorical data - common approach when dealing with missing values that represent categories/labels.\n",
    "\n",
    "    ##### why?\n",
    "    * Filling with a placeholder like 'unknown' helps preserve data in the dataset, by maintaining the row (which might contain valuable information in other columns).\n",
    "    * Since there are no natural numerical replacement for categorical data, a placeholder like 'unknown' ensures the dataset remains consistant.\n",
    "    * Avoids biased data formation - filling with the most occuring value will introduce heavy biasness to the dataset, using a placeholder helps to maintain the integrity of the analysis by marking the missing information, rather replacing it.\n",
    "    * Helps to have some clarity between the missing values and valid entries.\n",
    " \n",
    "##### This will help us preserve the structure of the dataset and it also ensures that all the datapoints are considered in analysis\n",
    "  \n",
    "  "
   ]
  },
  {
   "cell_type": "code",
   "execution_count": 361,
   "id": "3505376b-5042-4f4f-b271-80528b267ea9",
   "metadata": {},
   "outputs": [],
   "source": [
    "# dropping the columns that has more than 50% missing values\n",
    "threshold = len(cs_attack_df) * 0.5\n",
    "cleaned_df = cs_attack_df.dropna(thresh=threshold, axis=1)"
   ]
  },
  {
   "cell_type": "code",
   "execution_count": 363,
   "id": "e45f909d-0d21-49b3-ab0d-612d085c44bb",
   "metadata": {},
   "outputs": [
    {
     "data": {
      "text/html": [
       "<div>\n",
       "<style scoped>\n",
       "    .dataframe tbody tr th:only-of-type {\n",
       "        vertical-align: middle;\n",
       "    }\n",
       "\n",
       "    .dataframe tbody tr th {\n",
       "        vertical-align: top;\n",
       "    }\n",
       "\n",
       "    .dataframe thead th {\n",
       "        text-align: right;\n",
       "    }\n",
       "</style>\n",
       "<table border=\"1\" class=\"dataframe\">\n",
       "  <thead>\n",
       "    <tr style=\"text-align: right;\">\n",
       "      <th></th>\n",
       "      <th>Timestamp</th>\n",
       "      <th>Source IP Address</th>\n",
       "      <th>Destination IP Address</th>\n",
       "      <th>Source Port</th>\n",
       "      <th>Destination Port</th>\n",
       "      <th>Protocol</th>\n",
       "      <th>Packet Length</th>\n",
       "      <th>Packet Type</th>\n",
       "      <th>Traffic Type</th>\n",
       "      <th>Payload Data</th>\n",
       "      <th>...</th>\n",
       "      <th>Attack Signature</th>\n",
       "      <th>Action Taken</th>\n",
       "      <th>Severity Level</th>\n",
       "      <th>User Information</th>\n",
       "      <th>Device Information</th>\n",
       "      <th>Network Segment</th>\n",
       "      <th>Geo-location Data</th>\n",
       "      <th>Proxy Information</th>\n",
       "      <th>Firewall Logs</th>\n",
       "      <th>Log Source</th>\n",
       "    </tr>\n",
       "  </thead>\n",
       "  <tbody>\n",
       "    <tr>\n",
       "      <th>0</th>\n",
       "      <td>2023-05-30 06:33:58</td>\n",
       "      <td>103.216.15.12</td>\n",
       "      <td>84.9.164.252</td>\n",
       "      <td>31225</td>\n",
       "      <td>17616</td>\n",
       "      <td>ICMP</td>\n",
       "      <td>503</td>\n",
       "      <td>Data</td>\n",
       "      <td>HTTP</td>\n",
       "      <td>Qui natus odio asperiores nam. Optio nobis ius...</td>\n",
       "      <td>...</td>\n",
       "      <td>Known Pattern B</td>\n",
       "      <td>Logged</td>\n",
       "      <td>Low</td>\n",
       "      <td>Reyansh Dugal</td>\n",
       "      <td>Mozilla/5.0 (compatible; MSIE 8.0; Windows NT ...</td>\n",
       "      <td>Segment A</td>\n",
       "      <td>Jamshedpur, Sikkim</td>\n",
       "      <td>150.9.97.135</td>\n",
       "      <td>Log Data</td>\n",
       "      <td>Server</td>\n",
       "    </tr>\n",
       "    <tr>\n",
       "      <th>1</th>\n",
       "      <td>2020-08-26 07:08:30</td>\n",
       "      <td>78.199.217.198</td>\n",
       "      <td>66.191.137.154</td>\n",
       "      <td>17245</td>\n",
       "      <td>48166</td>\n",
       "      <td>ICMP</td>\n",
       "      <td>1174</td>\n",
       "      <td>Data</td>\n",
       "      <td>HTTP</td>\n",
       "      <td>Aperiam quos modi officiis veritatis rem. Omni...</td>\n",
       "      <td>...</td>\n",
       "      <td>Known Pattern A</td>\n",
       "      <td>Blocked</td>\n",
       "      <td>Low</td>\n",
       "      <td>Sumer Rana</td>\n",
       "      <td>Mozilla/5.0 (compatible; MSIE 8.0; Windows NT ...</td>\n",
       "      <td>Segment B</td>\n",
       "      <td>Bilaspur, Nagaland</td>\n",
       "      <td>NaN</td>\n",
       "      <td>Log Data</td>\n",
       "      <td>Firewall</td>\n",
       "    </tr>\n",
       "    <tr>\n",
       "      <th>2</th>\n",
       "      <td>2022-11-13 08:23:25</td>\n",
       "      <td>63.79.210.48</td>\n",
       "      <td>198.219.82.17</td>\n",
       "      <td>16811</td>\n",
       "      <td>53600</td>\n",
       "      <td>UDP</td>\n",
       "      <td>306</td>\n",
       "      <td>Control</td>\n",
       "      <td>HTTP</td>\n",
       "      <td>Perferendis sapiente vitae soluta. Hic delectu...</td>\n",
       "      <td>...</td>\n",
       "      <td>Known Pattern B</td>\n",
       "      <td>Ignored</td>\n",
       "      <td>Low</td>\n",
       "      <td>Himmat Karpe</td>\n",
       "      <td>Mozilla/5.0 (compatible; MSIE 9.0; Windows NT ...</td>\n",
       "      <td>Segment C</td>\n",
       "      <td>Bokaro, Rajasthan</td>\n",
       "      <td>114.133.48.179</td>\n",
       "      <td>Log Data</td>\n",
       "      <td>Firewall</td>\n",
       "    </tr>\n",
       "    <tr>\n",
       "      <th>3</th>\n",
       "      <td>2023-07-02 10:38:46</td>\n",
       "      <td>163.42.196.10</td>\n",
       "      <td>101.228.192.255</td>\n",
       "      <td>20018</td>\n",
       "      <td>32534</td>\n",
       "      <td>UDP</td>\n",
       "      <td>385</td>\n",
       "      <td>Data</td>\n",
       "      <td>HTTP</td>\n",
       "      <td>Totam maxime beatae expedita explicabo porro l...</td>\n",
       "      <td>...</td>\n",
       "      <td>Known Pattern B</td>\n",
       "      <td>Blocked</td>\n",
       "      <td>Medium</td>\n",
       "      <td>Fateh Kibe</td>\n",
       "      <td>Mozilla/5.0 (Macintosh; PPC Mac OS X 10_11_5; ...</td>\n",
       "      <td>Segment B</td>\n",
       "      <td>Jaunpur, Rajasthan</td>\n",
       "      <td>NaN</td>\n",
       "      <td>NaN</td>\n",
       "      <td>Firewall</td>\n",
       "    </tr>\n",
       "    <tr>\n",
       "      <th>4</th>\n",
       "      <td>2023-07-16 13:11:07</td>\n",
       "      <td>71.166.185.76</td>\n",
       "      <td>189.243.174.238</td>\n",
       "      <td>6131</td>\n",
       "      <td>26646</td>\n",
       "      <td>TCP</td>\n",
       "      <td>1462</td>\n",
       "      <td>Data</td>\n",
       "      <td>DNS</td>\n",
       "      <td>Odit nesciunt dolorem nisi iste iusto. Animi v...</td>\n",
       "      <td>...</td>\n",
       "      <td>Known Pattern B</td>\n",
       "      <td>Blocked</td>\n",
       "      <td>Low</td>\n",
       "      <td>Dhanush Chad</td>\n",
       "      <td>Mozilla/5.0 (compatible; MSIE 5.0; Windows NT ...</td>\n",
       "      <td>Segment C</td>\n",
       "      <td>Anantapur, Tripura</td>\n",
       "      <td>149.6.110.119</td>\n",
       "      <td>NaN</td>\n",
       "      <td>Firewall</td>\n",
       "    </tr>\n",
       "  </tbody>\n",
       "</table>\n",
       "<p>5 rows × 23 columns</p>\n",
       "</div>"
      ],
      "text/plain": [
       "             Timestamp Source IP Address Destination IP Address  Source Port  \\\n",
       "0  2023-05-30 06:33:58     103.216.15.12           84.9.164.252        31225   \n",
       "1  2020-08-26 07:08:30    78.199.217.198         66.191.137.154        17245   \n",
       "2  2022-11-13 08:23:25      63.79.210.48          198.219.82.17        16811   \n",
       "3  2023-07-02 10:38:46     163.42.196.10        101.228.192.255        20018   \n",
       "4  2023-07-16 13:11:07     71.166.185.76        189.243.174.238         6131   \n",
       "\n",
       "   Destination Port Protocol  Packet Length Packet Type Traffic Type  \\\n",
       "0             17616     ICMP            503        Data         HTTP   \n",
       "1             48166     ICMP           1174        Data         HTTP   \n",
       "2             53600      UDP            306     Control         HTTP   \n",
       "3             32534      UDP            385        Data         HTTP   \n",
       "4             26646      TCP           1462        Data          DNS   \n",
       "\n",
       "                                        Payload Data  ... Attack Signature  \\\n",
       "0  Qui natus odio asperiores nam. Optio nobis ius...  ...  Known Pattern B   \n",
       "1  Aperiam quos modi officiis veritatis rem. Omni...  ...  Known Pattern A   \n",
       "2  Perferendis sapiente vitae soluta. Hic delectu...  ...  Known Pattern B   \n",
       "3  Totam maxime beatae expedita explicabo porro l...  ...  Known Pattern B   \n",
       "4  Odit nesciunt dolorem nisi iste iusto. Animi v...  ...  Known Pattern B   \n",
       "\n",
       "   Action Taken Severity Level User Information  \\\n",
       "0        Logged            Low    Reyansh Dugal   \n",
       "1       Blocked            Low       Sumer Rana   \n",
       "2       Ignored            Low     Himmat Karpe   \n",
       "3       Blocked         Medium       Fateh Kibe   \n",
       "4       Blocked            Low     Dhanush Chad   \n",
       "\n",
       "                                  Device Information Network Segment  \\\n",
       "0  Mozilla/5.0 (compatible; MSIE 8.0; Windows NT ...       Segment A   \n",
       "1  Mozilla/5.0 (compatible; MSIE 8.0; Windows NT ...       Segment B   \n",
       "2  Mozilla/5.0 (compatible; MSIE 9.0; Windows NT ...       Segment C   \n",
       "3  Mozilla/5.0 (Macintosh; PPC Mac OS X 10_11_5; ...       Segment B   \n",
       "4  Mozilla/5.0 (compatible; MSIE 5.0; Windows NT ...       Segment C   \n",
       "\n",
       "    Geo-location Data Proxy Information Firewall Logs Log Source  \n",
       "0  Jamshedpur, Sikkim      150.9.97.135      Log Data     Server  \n",
       "1  Bilaspur, Nagaland               NaN      Log Data   Firewall  \n",
       "2   Bokaro, Rajasthan    114.133.48.179      Log Data   Firewall  \n",
       "3  Jaunpur, Rajasthan               NaN           NaN   Firewall  \n",
       "4  Anantapur, Tripura     149.6.110.119           NaN   Firewall  \n",
       "\n",
       "[5 rows x 23 columns]"
      ]
     },
     "execution_count": 363,
     "metadata": {},
     "output_type": "execute_result"
    }
   ],
   "source": [
    "cleaned_df.head()"
   ]
  },
  {
   "cell_type": "code",
   "execution_count": 365,
   "id": "508f29a0-9069-4860-a066-1111c60b65dc",
   "metadata": {},
   "outputs": [
    {
     "data": {
      "text/plain": [
       "Timestamp                     0\n",
       "Source IP Address             0\n",
       "Destination IP Address        0\n",
       "Source Port                   0\n",
       "Destination Port              0\n",
       "Protocol                      0\n",
       "Packet Length                 0\n",
       "Packet Type                   0\n",
       "Traffic Type                  0\n",
       "Payload Data                  0\n",
       "Malware Indicators        20000\n",
       "Anomaly Scores                0\n",
       "Attack Type                   0\n",
       "Attack Signature              0\n",
       "Action Taken                  0\n",
       "Severity Level                0\n",
       "User Information              0\n",
       "Device Information            0\n",
       "Network Segment               0\n",
       "Geo-location Data             0\n",
       "Proxy Information         19851\n",
       "Firewall Logs             19961\n",
       "Log Source                    0\n",
       "dtype: int64"
      ]
     },
     "execution_count": 365,
     "metadata": {},
     "output_type": "execute_result"
    }
   ],
   "source": [
    "cleaned_df.isnull().sum()"
   ]
  },
  {
   "cell_type": "code",
   "execution_count": 367,
   "id": "895274d7-67d2-44ff-a6cb-4470379be542",
   "metadata": {},
   "outputs": [],
   "source": [
    "#handling the remaining missing values by imputing them with a placeholder value 'unknown'\n",
    "df = cleaned_df.copy()\n",
    "df.fillna('Unknown', inplace=True)"
   ]
  },
  {
   "cell_type": "code",
   "execution_count": 369,
   "id": "321b2938-eded-4189-9b6c-c4fc5e4cdaf7",
   "metadata": {},
   "outputs": [
    {
     "name": "stdout",
     "output_type": "stream",
     "text": [
      "<class 'pandas.core.frame.DataFrame'>\n",
      "RangeIndex: 40000 entries, 0 to 39999\n",
      "Data columns (total 23 columns):\n",
      " #   Column                  Non-Null Count  Dtype  \n",
      "---  ------                  --------------  -----  \n",
      " 0   Timestamp               40000 non-null  object \n",
      " 1   Source IP Address       40000 non-null  object \n",
      " 2   Destination IP Address  40000 non-null  object \n",
      " 3   Source Port             40000 non-null  int64  \n",
      " 4   Destination Port        40000 non-null  int64  \n",
      " 5   Protocol                40000 non-null  object \n",
      " 6   Packet Length           40000 non-null  int64  \n",
      " 7   Packet Type             40000 non-null  object \n",
      " 8   Traffic Type            40000 non-null  object \n",
      " 9   Payload Data            40000 non-null  object \n",
      " 10  Malware Indicators      40000 non-null  object \n",
      " 11  Anomaly Scores          40000 non-null  float64\n",
      " 12  Attack Type             40000 non-null  object \n",
      " 13  Attack Signature        40000 non-null  object \n",
      " 14  Action Taken            40000 non-null  object \n",
      " 15  Severity Level          40000 non-null  object \n",
      " 16  User Information        40000 non-null  object \n",
      " 17  Device Information      40000 non-null  object \n",
      " 18  Network Segment         40000 non-null  object \n",
      " 19  Geo-location Data       40000 non-null  object \n",
      " 20  Proxy Information       40000 non-null  object \n",
      " 21  Firewall Logs           40000 non-null  object \n",
      " 22  Log Source              40000 non-null  object \n",
      "dtypes: float64(1), int64(3), object(19)\n",
      "memory usage: 7.0+ MB\n"
     ]
    }
   ],
   "source": [
    "df.info()"
   ]
  },
  {
   "cell_type": "code",
   "execution_count": 371,
   "id": "3536b119-9ae8-45a7-b593-57f7fb2bdb99",
   "metadata": {},
   "outputs": [
    {
     "data": {
      "text/plain": [
       "Timestamp                 0\n",
       "Source IP Address         0\n",
       "Destination IP Address    0\n",
       "Source Port               0\n",
       "Destination Port          0\n",
       "Protocol                  0\n",
       "Packet Length             0\n",
       "Packet Type               0\n",
       "Traffic Type              0\n",
       "Payload Data              0\n",
       "Malware Indicators        0\n",
       "Anomaly Scores            0\n",
       "Attack Type               0\n",
       "Attack Signature          0\n",
       "Action Taken              0\n",
       "Severity Level            0\n",
       "User Information          0\n",
       "Device Information        0\n",
       "Network Segment           0\n",
       "Geo-location Data         0\n",
       "Proxy Information         0\n",
       "Firewall Logs             0\n",
       "Log Source                0\n",
       "dtype: int64"
      ]
     },
     "execution_count": 371,
     "metadata": {},
     "output_type": "execute_result"
    }
   ],
   "source": [
    "df.isnull().sum()"
   ]
  },
  {
   "cell_type": "markdown",
   "id": "d92e4932-49aa-4372-ac67-2be3451bf264",
   "metadata": {},
   "source": [
    "## 1.3 When most of the attacks happened (show by month and attack type). Give some insights based on data analysis supported by the visualization.\n",
    "\n"
   ]
  },
  {
   "cell_type": "code",
   "execution_count": 400,
   "id": "c3756f42-aa29-4239-9605-cc16c39d1561",
   "metadata": {},
   "outputs": [],
   "source": [
    "#converting the 'Timestamp' column to datetime\n",
    "df['Timestamp'] = pd.to_datetime(df['Timestamp'])"
   ]
  },
  {
   "cell_type": "code",
   "execution_count": 402,
   "id": "a1eb56aa-af94-4797-be76-5a89e3352be4",
   "metadata": {},
   "outputs": [],
   "source": [
    "#getting the month from 'Timestamp'\n",
    "df['Month'] = df['Timestamp'].dt.month"
   ]
  },
  {
   "cell_type": "code",
   "execution_count": 404,
   "id": "9134475b-d5d5-45df-bcd2-b70909b45194",
   "metadata": {},
   "outputs": [],
   "source": [
    "#groupby 'Month' and 'Attack Type' to get the counts\n",
    "attacks_by_month = df.groupby(['Month', 'Attack Type']).size().unstack()"
   ]
  },
  {
   "cell_type": "code",
   "execution_count": 406,
   "id": "d04c9e3c-6a1d-4c74-a9ff-12bce9674761",
   "metadata": {},
   "outputs": [
    {
     "data": {
      "image/png": "[encoded data removed]",
      "text/plain": [
       "<Figure size 1000x600 with 1 Axes>"
      ]
     },
     "metadata": {},
     "output_type": "display_data"
    }
   ],
   "source": [
    "# plotting the data with grouped bars\n",
    "attacks_by_month.plot(kind='bar', stacked=False, figsize=(10, 6))\n",
    "plt.title('Number of Attacks by Month and Attack Type')\n",
    "plt.xlabel('Month')\n",
    "plt.ylabel('Number of Attacks')\n",
    "plt.legend(title='Attack Type', bbox_to_anchor=(1.05, 1), loc='upper left')\n",
    "plt.show()"
   ]
  },
  {
   "cell_type": "markdown",
   "id": "9cd1a9c2-33de-4c39-9942-21e2af33db5b",
   "metadata": {},
   "source": [
    "#### Insights from the above analysis:"
   ]
  },
  {
   "cell_type": "code",
   "execution_count": 377,
   "id": "e9e3ac31-5ed8-401c-abf9-03760a9624ed",
   "metadata": {},
   "outputs": [
    {
     "data": {
      "text/html": [
       "<div>\n",
       "<style scoped>\n",
       "    .dataframe tbody tr th:only-of-type {\n",
       "        vertical-align: middle;\n",
       "    }\n",
       "\n",
       "    .dataframe tbody tr th {\n",
       "        vertical-align: top;\n",
       "    }\n",
       "\n",
       "    .dataframe thead th {\n",
       "        text-align: right;\n",
       "    }\n",
       "</style>\n",
       "<table border=\"1\" class=\"dataframe\">\n",
       "  <thead>\n",
       "    <tr style=\"text-align: right;\">\n",
       "      <th>Attack Type</th>\n",
       "      <th>DDoS</th>\n",
       "      <th>Intrusion</th>\n",
       "      <th>Malware</th>\n",
       "    </tr>\n",
       "    <tr>\n",
       "      <th>Month</th>\n",
       "      <th></th>\n",
       "      <th></th>\n",
       "      <th></th>\n",
       "    </tr>\n",
       "  </thead>\n",
       "  <tbody>\n",
       "    <tr>\n",
       "      <th>1</th>\n",
       "      <td>1099</td>\n",
       "      <td>1116</td>\n",
       "      <td>1163</td>\n",
       "    </tr>\n",
       "    <tr>\n",
       "      <th>2</th>\n",
       "      <td>1085</td>\n",
       "      <td>1107</td>\n",
       "      <td>1040</td>\n",
       "    </tr>\n",
       "    <tr>\n",
       "      <th>3</th>\n",
       "      <td>1299</td>\n",
       "      <td>1182</td>\n",
       "      <td>1197</td>\n",
       "    </tr>\n",
       "    <tr>\n",
       "      <th>4</th>\n",
       "      <td>1166</td>\n",
       "      <td>1140</td>\n",
       "      <td>1115</td>\n",
       "    </tr>\n",
       "    <tr>\n",
       "      <th>5</th>\n",
       "      <td>1200</td>\n",
       "      <td>1212</td>\n",
       "      <td>1183</td>\n",
       "    </tr>\n",
       "    <tr>\n",
       "      <th>6</th>\n",
       "      <td>1190</td>\n",
       "      <td>1268</td>\n",
       "      <td>1151</td>\n",
       "    </tr>\n",
       "    <tr>\n",
       "      <th>7</th>\n",
       "      <td>1163</td>\n",
       "      <td>1224</td>\n",
       "      <td>1236</td>\n",
       "    </tr>\n",
       "    <tr>\n",
       "      <th>8</th>\n",
       "      <td>1226</td>\n",
       "      <td>1173</td>\n",
       "      <td>1216</td>\n",
       "    </tr>\n",
       "    <tr>\n",
       "      <th>9</th>\n",
       "      <td>1221</td>\n",
       "      <td>1089</td>\n",
       "      <td>1172</td>\n",
       "    </tr>\n",
       "    <tr>\n",
       "      <th>10</th>\n",
       "      <td>1015</td>\n",
       "      <td>961</td>\n",
       "      <td>1013</td>\n",
       "    </tr>\n",
       "    <tr>\n",
       "      <th>11</th>\n",
       "      <td>869</td>\n",
       "      <td>899</td>\n",
       "      <td>935</td>\n",
       "    </tr>\n",
       "    <tr>\n",
       "      <th>12</th>\n",
       "      <td>895</td>\n",
       "      <td>894</td>\n",
       "      <td>886</td>\n",
       "    </tr>\n",
       "  </tbody>\n",
       "</table>\n",
       "</div>"
      ],
      "text/plain": [
       "Attack Type  DDoS  Intrusion  Malware\n",
       "Month                                \n",
       "1            1099       1116     1163\n",
       "2            1085       1107     1040\n",
       "3            1299       1182     1197\n",
       "4            1166       1140     1115\n",
       "5            1200       1212     1183\n",
       "6            1190       1268     1151\n",
       "7            1163       1224     1236\n",
       "8            1226       1173     1216\n",
       "9            1221       1089     1172\n",
       "10           1015        961     1013\n",
       "11            869        899      935\n",
       "12            895        894      886"
      ]
     },
     "execution_count": 377,
     "metadata": {},
     "output_type": "execute_result"
    }
   ],
   "source": [
    "attacks_by_month"
   ]
  },
  {
   "cell_type": "code",
   "execution_count": 379,
   "id": "0492e415-227e-4449-b901-04cb11f671ed",
   "metadata": {},
   "outputs": [
    {
     "data": {
      "text/plain": [
       "Month\n",
       "1     3378\n",
       "2     3232\n",
       "3     3678\n",
       "4     3421\n",
       "5     3595\n",
       "6     3609\n",
       "7     3623\n",
       "8     3615\n",
       "9     3482\n",
       "10    2989\n",
       "11    2703\n",
       "12    2675\n",
       "dtype: int64"
      ]
     },
     "execution_count": 379,
     "metadata": {},
     "output_type": "execute_result"
    }
   ],
   "source": [
    "#total attacks per month\n",
    "total_attacks_per_month = attacks_by_month.sum(axis=1)\n",
    "total_attacks_per_month"
   ]
  },
  {
   "cell_type": "markdown",
   "id": "e50f3fa5-bfd7-432c-acd0-8b5f249781be",
   "metadata": {},
   "source": [
    "* Highest frequency of attacks across all the types of attacks are seen in the 1st 3 months (Jan-Mar) of the year - High volume of attacks early in the year.\n",
    "* Highest number of attacks are seen in the month of March with a total of 3678 attacks.\n",
    "* DDoS attacks shows a peak March with 1299 incidents.\n",
    "* From April to September, the attacks seem relatively stable: Mid year - stability \n",
    "* During the month of June, there's a sudden spike in Intrusion attacks.\n",
    "* Towards the end of the year, there's a significant decline in incidents.\n",
    "* Malware attacks - maintain a high number of attacks throughout the year across all months, making it the most persistent attack type.\n",
    "* Intrusion attacks - can be ranked 2nd.\n",
    "* DDoS attacks shows the largest fluctuations (Spike in March and gradually dropping towards the end of the year).\n",
    "\n",
    "##### Defence: Early part of the year should be the most focused due to the high frequency of incidents."
   ]
  },
  {
   "cell_type": "markdown",
   "id": "af3b297f-d11b-4a64-b6bc-fa4f6508d4cc",
   "metadata": {},
   "source": [
    "## 1.4 Show the packet length distribution for different attack types."
   ]
  },
  {
   "cell_type": "code",
   "execution_count": 383,
   "id": "acbb398f-4abf-4d79-aca9-e349ed5ab5dc",
   "metadata": {},
   "outputs": [],
   "source": [
    "#calculating the total packet length for each attack type\n",
    "total_packet_length = df.groupby('Attack Type')['Packet Length'].sum()"
   ]
  },
  {
   "cell_type": "code",
   "execution_count": 526,
   "id": "30def293-69e1-4a59-9d88-4d60c8ab8ca6",
   "metadata": {},
   "outputs": [],
   "source": [
    "colors = {'DDoS': 'lightcoral', 'Intrusion': 'bisque', 'Malware': 'skyblue'}"
   ]
  },
  {
   "cell_type": "code",
   "execution_count": 398,
   "id": "b7c05a19-7429-4482-9e3f-e73ac615442d",
   "metadata": {},
   "outputs": [
    {
     "data": {
      "image/png": "[encoded data removed]",
      "text/plain": [
       "<Figure size 500x500 with 1 Axes>"
      ]
     },
     "metadata": {},
     "output_type": "display_data"
    }
   ],
   "source": [
    "plt.figure(figsize=(5, 5))\n",
    "plt.pie(total_packet_length, \n",
    "        labels=total_packet_length.index, \n",
    "        colors=[colors[attack_type] for attack_type in total_packet_length.index], \n",
    "        autopct='%1.1f%%', \n",
    "        startangle=140, \n",
    "        wedgeprops=dict(edgecolor='black'))\n",
    "\n",
    "plt.title('Proportion of Total Packet Length by Attack Type')\n",
    "plt.show()"
   ]
  },
  {
   "cell_type": "markdown",
   "id": "abc9c331-cb3c-437c-b649-18d49f486d68",
   "metadata": {},
   "source": [
    "## 2. Provide 5 unique insights that you can obtain based on the cyber data analysis.Provide supportive data and visualization (if any). List and explain them."
   ]
  },
  {
   "cell_type": "markdown",
   "id": "aa1a54c4-2f46-4c22-ad80-ffd2f84ed51e",
   "metadata": {},
   "source": [
    "1. Time of the day patterns"
   ]
  },
  {
   "cell_type": "code",
   "execution_count": 416,
   "id": "fc4b3575-5067-454a-869f-c8c35f32624f",
   "metadata": {},
   "outputs": [],
   "source": [
    "#extract hour from 'Timestamp'\n",
    "df['Hour'] = df['Timestamp'].dt.hour"
   ]
  },
  {
   "cell_type": "code",
   "execution_count": 418,
   "id": "ace7fbe6-24ba-40ac-bff0-5d2ad2501605",
   "metadata": {},
   "outputs": [],
   "source": [
    "#groupny hour and count the number of attacks\n",
    "attacks_by_hour = df['Hour'].value_counts().sort_index()"
   ]
  },
  {
   "cell_type": "code",
   "execution_count": 420,
   "id": "7c45b14b-2515-4525-b850-bf49f01f48ed",
   "metadata": {},
   "outputs": [
    {
     "data": {
      "image/png": "[encoded data removed]",
      "text/plain": [
       "<Figure size 1200x600 with 1 Axes>"
      ]
     },
     "metadata": {},
     "output_type": "display_data"
    }
   ],
   "source": [
    "plt.figure(figsize=(12, 6))\n",
    "plt.bar(attacks_by_hour.index, attacks_by_hour.values, color='peachpuff')\n",
    "\n",
    "plt.title('Attacks by Hour of the Day')\n",
    "plt.xlabel('Hour of the Day')\n",
    "plt.ylabel('Number of Attacks')\n",
    "plt.xticks(range(24))\n",
    "plt.grid(axis='y')\n",
    "plt.show()\n"
   ]
  },
  {
   "cell_type": "markdown",
   "id": "75301679-7d38-4dc6-836d-50ffe1624dcd",
   "metadata": {},
   "source": [
    "* Peak attack hours - highest frequency of attacks occurs around 13:00pm, 20:00pm and 04:00am.\n",
    "* Frequency of attacks are higher even during the non-business hours.\n",
    "* There's consistency in attacks during the busy hours and early mornings.\n",
    "* Lowest attack frequency is observed at 12:00, which suggest that the attacks focus on times with higher system activity."
   ]
  },
  {
   "cell_type": "markdown",
   "id": "a3ca8522-2e45-4236-9544-ba68aca3990e",
   "metadata": {},
   "source": [
    "3. Protocol usage and attack correlation."
   ]
  },
  {
   "cell_type": "code",
   "execution_count": 534,
   "id": "d90f50a3-4d87-4b60-a8ca-8c76a147188f",
   "metadata": {},
   "outputs": [
    {
     "data": {
      "image/png": "[encoded data removed]",
      "text/plain": [
       "<Figure size 600x500 with 1 Axes>"
      ]
     },
     "metadata": {},
     "output_type": "display_data"
    }
   ],
   "source": [
    "attack_by_protocol = df.groupby(['Protocol', 'Attack Type']).size().unstack()\n",
    "attack_by_protocol.plot(kind='bar', color=[colors[col] for col in attack_by_protocol.columns],figsize=(6, 5))\n",
    "plt.title('Attack Types by Protocol')\n",
    "plt.xlabel('Protocol')\n",
    "plt.ylabel('Number of Attacks')\n",
    "plt.show()\n"
   ]
  },
  {
   "cell_type": "code",
   "execution_count": 536,
   "id": "bae71f6d-5ad9-4800-aab0-0b5a708d8f95",
   "metadata": {},
   "outputs": [
    {
     "data": {
      "text/html": [
       "<div>\n",
       "<style scoped>\n",
       "    .dataframe tbody tr th:only-of-type {\n",
       "        vertical-align: middle;\n",
       "    }\n",
       "\n",
       "    .dataframe tbody tr th {\n",
       "        vertical-align: top;\n",
       "    }\n",
       "\n",
       "    .dataframe thead th {\n",
       "        text-align: right;\n",
       "    }\n",
       "</style>\n",
       "<table border=\"1\" class=\"dataframe\">\n",
       "  <thead>\n",
       "    <tr style=\"text-align: right;\">\n",
       "      <th>Attack Type</th>\n",
       "      <th>DDoS</th>\n",
       "      <th>Intrusion</th>\n",
       "      <th>Malware</th>\n",
       "    </tr>\n",
       "    <tr>\n",
       "      <th>Protocol</th>\n",
       "      <th></th>\n",
       "      <th></th>\n",
       "      <th></th>\n",
       "    </tr>\n",
       "  </thead>\n",
       "  <tbody>\n",
       "    <tr>\n",
       "      <th>ICMP</th>\n",
       "      <td>4508</td>\n",
       "      <td>4460</td>\n",
       "      <td>4461</td>\n",
       "    </tr>\n",
       "    <tr>\n",
       "      <th>TCP</th>\n",
       "      <td>4438</td>\n",
       "      <td>4397</td>\n",
       "      <td>4437</td>\n",
       "    </tr>\n",
       "    <tr>\n",
       "      <th>UDP</th>\n",
       "      <td>4482</td>\n",
       "      <td>4408</td>\n",
       "      <td>4409</td>\n",
       "    </tr>\n",
       "  </tbody>\n",
       "</table>\n",
       "</div>"
      ],
      "text/plain": [
       "Attack Type  DDoS  Intrusion  Malware\n",
       "Protocol                             \n",
       "ICMP         4508       4460     4461\n",
       "TCP          4438       4397     4437\n",
       "UDP          4482       4408     4409"
      ]
     },
     "execution_count": 536,
     "metadata": {},
     "output_type": "execute_result"
    }
   ],
   "source": [
    "attack_by_protocol"
   ]
  },
  {
   "cell_type": "markdown",
   "id": "4f2f5a23-d77b-4911-8fcc-25cb41bfea25",
   "metadata": {},
   "source": [
    "* ICMP is the protocol most commonly associated with attacks across all categories.\n",
    "* TCP is the next common and closely related with DDoS attacks.\n",
    "* UDP protocol is mostly used with DDos attack and used almost same way with Intrusion and Malware attacks."
   ]
  },
  {
   "cell_type": "markdown",
   "id": "ce1b409d-7e51-48df-bb88-13d6345ec280",
   "metadata": {},
   "source": [
    "4. Distribution of severity level"
   ]
  },
  {
   "cell_type": "code",
   "execution_count": 571,
   "id": "884a526e-ffb5-4cc5-bead-a62c89445f9b",
   "metadata": {},
   "outputs": [
    {
     "data": {
      "image/png": "[encoded data removed]",
      "text/plain": [
       "<Figure size 500x500 with 1 Axes>"
      ]
     },
     "metadata": {},
     "output_type": "display_data"
    }
   ],
   "source": [
    "severity_counts = df['Severity Level'].value_counts()\n",
    "\n",
    "plt.figure(figsize=(5, 5))\n",
    "bars = plt.bar(severity_counts.index, severity_counts.values, color=['indianred','orange','khaki'])\n",
    "\n",
    "plt.title('Severity Level Distribution')\n",
    "plt.xlabel('Severity Level')\n",
    "plt.ylabel('Number of Attacks')\n",
    "\n",
    "for bar in bars:\n",
    "    height = bar.get_height()\n",
    "    plt.text(bar.get_x() + bar.get_width()/2, height - 5, f'{int(height)}', ha='center', va='bottom', color='black', fontsize=11)\n",
    "\n",
    "plt.grid(axis='y', linestyle='--', alpha=0.5)\n",
    "plt.tight_layout()\n",
    "plt.show()"
   ]
  },
  {
   "cell_type": "code",
   "execution_count": 543,
   "id": "44e41fd0-212b-4060-8fd0-a30bd92a876d",
   "metadata": {},
   "outputs": [
    {
     "data": {
      "text/plain": [
       "Severity Level\n",
       "Medium    13435\n",
       "High      13382\n",
       "Low       13183\n",
       "Name: count, dtype: int64"
      ]
     },
     "execution_count": 543,
     "metadata": {},
     "output_type": "execute_result"
    }
   ],
   "source": [
    "severity_counts"
   ]
  },
  {
   "cell_type": "markdown",
   "id": "b845035e-145b-47bc-ba03-96931e85705b",
   "metadata": {},
   "source": [
    "* Medium severity are nearly as frequent as High severity cases.\n",
    "* Low severity incidents make up a slightly smaller portion of the attacks."
   ]
  },
  {
   "cell_type": "markdown",
   "id": "419c33b4-f26d-4e7c-9f11-271d625c5cbd",
   "metadata": {},
   "source": [
    "5. Geo-location and Attack Patterns"
   ]
  },
  {
   "cell_type": "code",
   "execution_count": 637,
   "id": "0054b0bd-69a4-4882-a674-64e4e1436dfb",
   "metadata": {},
   "outputs": [],
   "source": [
    "#frequency of attacks by Geo-location Data\n",
    "attack_geo_source = df.groupby('Geo-location Data')['Attack Type'].value_counts().unstack().fillna(0)\n",
    "attack_geo_source['Total Attacks'] = attack_geo_source.sum(axis=1)\n",
    "top_geo_sources = attack_geo_source.sort_values(by='Total Attacks', ascending=False).head(10)"
   ]
  },
  {
   "cell_type": "code",
   "execution_count": 639,
   "id": "81ecf310-6e0a-4ab3-bad2-35936958a89c",
   "metadata": {},
   "outputs": [
    {
     "data": {
      "text/html": [
       "<div>\n",
       "<style scoped>\n",
       "    .dataframe tbody tr th:only-of-type {\n",
       "        vertical-align: middle;\n",
       "    }\n",
       "\n",
       "    .dataframe tbody tr th {\n",
       "        vertical-align: top;\n",
       "    }\n",
       "\n",
       "    .dataframe thead th {\n",
       "        text-align: right;\n",
       "    }\n",
       "</style>\n",
       "<table border=\"1\" class=\"dataframe\">\n",
       "  <thead>\n",
       "    <tr style=\"text-align: right;\">\n",
       "      <th>Attack Type</th>\n",
       "      <th>DDoS</th>\n",
       "      <th>Intrusion</th>\n",
       "      <th>Malware</th>\n",
       "      <th>Total Attacks</th>\n",
       "    </tr>\n",
       "    <tr>\n",
       "      <th>Geo-location Data</th>\n",
       "      <th></th>\n",
       "      <th></th>\n",
       "      <th></th>\n",
       "      <th></th>\n",
       "    </tr>\n",
       "  </thead>\n",
       "  <tbody>\n",
       "    <tr>\n",
       "      <th>Adoni, Andhra Pradesh</th>\n",
       "      <td>2.0</td>\n",
       "      <td>1.0</td>\n",
       "      <td>1.0</td>\n",
       "      <td>4.0</td>\n",
       "    </tr>\n",
       "    <tr>\n",
       "      <th>Adoni, Arunachal Pradesh</th>\n",
       "      <td>2.0</td>\n",
       "      <td>1.0</td>\n",
       "      <td>1.0</td>\n",
       "      <td>4.0</td>\n",
       "    </tr>\n",
       "    <tr>\n",
       "      <th>Adoni, Assam</th>\n",
       "      <td>2.0</td>\n",
       "      <td>4.0</td>\n",
       "      <td>0.0</td>\n",
       "      <td>6.0</td>\n",
       "    </tr>\n",
       "    <tr>\n",
       "      <th>Adoni, Bihar</th>\n",
       "      <td>2.0</td>\n",
       "      <td>0.0</td>\n",
       "      <td>0.0</td>\n",
       "      <td>2.0</td>\n",
       "    </tr>\n",
       "    <tr>\n",
       "      <th>Adoni, Chhattisgarh</th>\n",
       "      <td>4.0</td>\n",
       "      <td>1.0</td>\n",
       "      <td>3.0</td>\n",
       "      <td>8.0</td>\n",
       "    </tr>\n",
       "    <tr>\n",
       "      <th>...</th>\n",
       "      <td>...</td>\n",
       "      <td>...</td>\n",
       "      <td>...</td>\n",
       "      <td>...</td>\n",
       "    </tr>\n",
       "    <tr>\n",
       "      <th>Yamunanagar, Telangana</th>\n",
       "      <td>0.0</td>\n",
       "      <td>1.0</td>\n",
       "      <td>1.0</td>\n",
       "      <td>2.0</td>\n",
       "    </tr>\n",
       "    <tr>\n",
       "      <th>Yamunanagar, Tripura</th>\n",
       "      <td>3.0</td>\n",
       "      <td>1.0</td>\n",
       "      <td>4.0</td>\n",
       "      <td>8.0</td>\n",
       "    </tr>\n",
       "    <tr>\n",
       "      <th>Yamunanagar, Uttar Pradesh</th>\n",
       "      <td>3.0</td>\n",
       "      <td>4.0</td>\n",
       "      <td>0.0</td>\n",
       "      <td>7.0</td>\n",
       "    </tr>\n",
       "    <tr>\n",
       "      <th>Yamunanagar, Uttarakhand</th>\n",
       "      <td>0.0</td>\n",
       "      <td>1.0</td>\n",
       "      <td>0.0</td>\n",
       "      <td>1.0</td>\n",
       "    </tr>\n",
       "    <tr>\n",
       "      <th>Yamunanagar, West Bengal</th>\n",
       "      <td>2.0</td>\n",
       "      <td>2.0</td>\n",
       "      <td>1.0</td>\n",
       "      <td>5.0</td>\n",
       "    </tr>\n",
       "  </tbody>\n",
       "</table>\n",
       "<p>8723 rows × 4 columns</p>\n",
       "</div>"
      ],
      "text/plain": [
       "Attack Type                 DDoS  Intrusion  Malware  Total Attacks\n",
       "Geo-location Data                                                  \n",
       "Adoni, Andhra Pradesh        2.0        1.0      1.0            4.0\n",
       "Adoni, Arunachal Pradesh     2.0        1.0      1.0            4.0\n",
       "Adoni, Assam                 2.0        4.0      0.0            6.0\n",
       "Adoni, Bihar                 2.0        0.0      0.0            2.0\n",
       "Adoni, Chhattisgarh          4.0        1.0      3.0            8.0\n",
       "...                          ...        ...      ...            ...\n",
       "Yamunanagar, Telangana       0.0        1.0      1.0            2.0\n",
       "Yamunanagar, Tripura         3.0        1.0      4.0            8.0\n",
       "Yamunanagar, Uttar Pradesh   3.0        4.0      0.0            7.0\n",
       "Yamunanagar, Uttarakhand     0.0        1.0      0.0            1.0\n",
       "Yamunanagar, West Bengal     2.0        2.0      1.0            5.0\n",
       "\n",
       "[8723 rows x 4 columns]"
      ]
     },
     "execution_count": 639,
     "metadata": {},
     "output_type": "execute_result"
    }
   ],
   "source": [
    "attack_geo_source"
   ]
  },
  {
   "cell_type": "code",
   "execution_count": 641,
   "id": "fdd40cd3-585c-44c9-b157-ac73dbf5f481",
   "metadata": {},
   "outputs": [
    {
     "data": {
      "text/plain": [
       "Geo-location Data\n",
       "Adoni, Andhra Pradesh         4.0\n",
       "Adoni, Arunachal Pradesh      4.0\n",
       "Adoni, Assam                  6.0\n",
       "Adoni, Bihar                  2.0\n",
       "Adoni, Chhattisgarh           8.0\n",
       "                             ... \n",
       "Yamunanagar, Telangana        2.0\n",
       "Yamunanagar, Tripura          8.0\n",
       "Yamunanagar, Uttar Pradesh    7.0\n",
       "Yamunanagar, Uttarakhand      1.0\n",
       "Yamunanagar, West Bengal      5.0\n",
       "Name: Total Attacks, Length: 8723, dtype: float64"
      ]
     },
     "execution_count": 641,
     "metadata": {},
     "output_type": "execute_result"
    }
   ],
   "source": [
    "attack_geo_source['Total Attacks']"
   ]
  },
  {
   "cell_type": "code",
   "execution_count": 643,
   "id": "040c7404-fbb9-4b32-9e3d-0464c9eaf2e8",
   "metadata": {},
   "outputs": [
    {
     "data": {
      "text/html": [
       "<div>\n",
       "<style scoped>\n",
       "    .dataframe tbody tr th:only-of-type {\n",
       "        vertical-align: middle;\n",
       "    }\n",
       "\n",
       "    .dataframe tbody tr th {\n",
       "        vertical-align: top;\n",
       "    }\n",
       "\n",
       "    .dataframe thead th {\n",
       "        text-align: right;\n",
       "    }\n",
       "</style>\n",
       "<table border=\"1\" class=\"dataframe\">\n",
       "  <thead>\n",
       "    <tr style=\"text-align: right;\">\n",
       "      <th>Attack Type</th>\n",
       "      <th>DDoS</th>\n",
       "      <th>Intrusion</th>\n",
       "      <th>Malware</th>\n",
       "      <th>Total Attacks</th>\n",
       "    </tr>\n",
       "    <tr>\n",
       "      <th>Geo-location Data</th>\n",
       "      <th></th>\n",
       "      <th></th>\n",
       "      <th></th>\n",
       "      <th></th>\n",
       "    </tr>\n",
       "  </thead>\n",
       "  <tbody>\n",
       "    <tr>\n",
       "      <th>Ghaziabad, Meghalaya</th>\n",
       "      <td>4.0</td>\n",
       "      <td>7.0</td>\n",
       "      <td>5.0</td>\n",
       "      <td>16.0</td>\n",
       "    </tr>\n",
       "    <tr>\n",
       "      <th>Kalyan-Dombivli, Jharkhand</th>\n",
       "      <td>6.0</td>\n",
       "      <td>5.0</td>\n",
       "      <td>4.0</td>\n",
       "      <td>15.0</td>\n",
       "    </tr>\n",
       "    <tr>\n",
       "      <th>Ghaziabad, Uttarakhand</th>\n",
       "      <td>3.0</td>\n",
       "      <td>5.0</td>\n",
       "      <td>6.0</td>\n",
       "      <td>14.0</td>\n",
       "    </tr>\n",
       "    <tr>\n",
       "      <th>Ghaziabad, Tripura</th>\n",
       "      <td>4.0</td>\n",
       "      <td>4.0</td>\n",
       "      <td>6.0</td>\n",
       "      <td>14.0</td>\n",
       "    </tr>\n",
       "    <tr>\n",
       "      <th>Motihari, Odisha</th>\n",
       "      <td>5.0</td>\n",
       "      <td>1.0</td>\n",
       "      <td>7.0</td>\n",
       "      <td>13.0</td>\n",
       "    </tr>\n",
       "    <tr>\n",
       "      <th>Aurangabad, Nagaland</th>\n",
       "      <td>4.0</td>\n",
       "      <td>0.0</td>\n",
       "      <td>9.0</td>\n",
       "      <td>13.0</td>\n",
       "    </tr>\n",
       "    <tr>\n",
       "      <th>Srikakulam, Uttarakhand</th>\n",
       "      <td>2.0</td>\n",
       "      <td>8.0</td>\n",
       "      <td>3.0</td>\n",
       "      <td>13.0</td>\n",
       "    </tr>\n",
       "    <tr>\n",
       "      <th>Ghaziabad, Jharkhand</th>\n",
       "      <td>1.0</td>\n",
       "      <td>10.0</td>\n",
       "      <td>2.0</td>\n",
       "      <td>13.0</td>\n",
       "    </tr>\n",
       "    <tr>\n",
       "      <th>Kottayam, Nagaland</th>\n",
       "      <td>2.0</td>\n",
       "      <td>4.0</td>\n",
       "      <td>7.0</td>\n",
       "      <td>13.0</td>\n",
       "    </tr>\n",
       "    <tr>\n",
       "      <th>Amroha, Sikkim</th>\n",
       "      <td>1.0</td>\n",
       "      <td>8.0</td>\n",
       "      <td>4.0</td>\n",
       "      <td>13.0</td>\n",
       "    </tr>\n",
       "  </tbody>\n",
       "</table>\n",
       "</div>"
      ],
      "text/plain": [
       "Attack Type                 DDoS  Intrusion  Malware  Total Attacks\n",
       "Geo-location Data                                                  \n",
       "Ghaziabad, Meghalaya         4.0        7.0      5.0           16.0\n",
       "Kalyan-Dombivli, Jharkhand   6.0        5.0      4.0           15.0\n",
       "Ghaziabad, Uttarakhand       3.0        5.0      6.0           14.0\n",
       "Ghaziabad, Tripura           4.0        4.0      6.0           14.0\n",
       "Motihari, Odisha             5.0        1.0      7.0           13.0\n",
       "Aurangabad, Nagaland         4.0        0.0      9.0           13.0\n",
       "Srikakulam, Uttarakhand      2.0        8.0      3.0           13.0\n",
       "Ghaziabad, Jharkhand         1.0       10.0      2.0           13.0\n",
       "Kottayam, Nagaland           2.0        4.0      7.0           13.0\n",
       "Amroha, Sikkim               1.0        8.0      4.0           13.0"
      ]
     },
     "execution_count": 643,
     "metadata": {},
     "output_type": "execute_result"
    }
   ],
   "source": [
    "top_geo_sources"
   ]
  },
  {
   "cell_type": "code",
   "execution_count": 645,
   "id": "83354b76-4187-4521-81bf-f68767e66f02",
   "metadata": {},
   "outputs": [
    {
     "data": {
      "image/png": "[encoded data removed]",
      "text/plain": [
       "<Figure size 1200x600 with 1 Axes>"
      ]
     },
     "metadata": {},
     "output_type": "display_data"
    }
   ],
   "source": [
    "top_geo_sources.drop('Total Attacks', axis=1).plot(kind='bar', figsize=(12, 6), color = ['mistyrose','plum','lightblue'])\n",
    "plt.title('Attack Type Distribution by Geo-location')\n",
    "plt.xlabel('Geo-location')\n",
    "plt.ylabel('Number of Attacks')\n",
    "plt.xticks(rotation=45)\n",
    "plt.legend(title='Attack Type')\n",
    "plt.tight_layout()\n",
    "plt.show()"
   ]
  },
  {
   "cell_type": "markdown",
   "id": "8a0565f6-7cd1-4d5d-ba22-9a33696ff129",
   "metadata": {},
   "source": [
    "* Whidespread attack activity all across India.\n",
    "* Significantly high amount of Intrusion attacks observed in Ghaziabad,Jharkhand.\n",
    "* Malware attacks are highest in Aurangabad, Nagaland."
   ]
  },
  {
   "cell_type": "code",
   "execution_count": null,
   "id": "f832554e-73f8-4ab9-8d52-24798e4d34dc",
   "metadata": {},
   "outputs": [],
   "source": []
  }
 ],
 "metadata": {
  "kernelspec": {
   "display_name": "Python 3 (ipykernel)",
   "language": "python",
   "name": "python3"
  },
  "language_info": {
   "codemirror_mode": {
    "name": "ipython",
    "version": 3
   },
   "file_extension": ".py",
   "mimetype": "text/x-python",
   "name": "python",
   "nbconvert_exporter": "python",
   "pygments_lexer": "ipython3",
   "version": "3.12.4"
  }
 },
 "nbformat": 4,
 "nbformat_minor": 5
}
